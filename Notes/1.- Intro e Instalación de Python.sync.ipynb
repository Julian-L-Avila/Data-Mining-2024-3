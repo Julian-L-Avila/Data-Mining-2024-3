{
 "cells": [
  {
   "cell_type": "markdown",
   "id": "4fc87110-595b-4ec7-b9b7-6f9be286e21d",
   "metadata": {},
   "source": [
    "# 1.- Intro e Instalación de Python\n",
    "1. Start virtual environment\n",
    "    source .venv/venv/bin/active\n",
    "2. Copy .ipynb into a .sync.ipynb file\n",
    "3. Convert .sync.ipynb to py:percent\n",
    "    jupytext --to py:percent file.sync.ipynb\n",
    "4. Make pair .py and .ipynb\n",
    "    python -m jupyter_ascending.scripts.make_pair --base file\n",
    "5. Start notebook\n",
    "    python -m jupyter notebook file.sync.ipynb &"
   ]
  },
  {
   "cell_type": "code",
   "execution_count": 1,
   "id": "383a570a-9276-475c-a22e-075ccbe1e353",
   "metadata": {},
   "outputs": [
    {
     "name": "stdout",
     "output_type": "stream",
     "text": [
      "Requirement already satisfied: pandas in /home/oel/.venv/jupy3/lib/python3.11/site-packages (2.2.2)\n",
      "Requirement already satisfied: numpy>=1.23.2 in /home/oel/.venv/jupy3/lib/python3.11/site-packages (from pandas) (2.0.1)\n",
      "Requirement already satisfied: python-dateutil>=2.8.2 in /home/oel/.venv/jupy3/lib/python3.11/site-packages (from pandas) (2.9.0.post0)\n",
      "Requirement already satisfied: pytz>=2020.1 in /home/oel/.venv/jupy3/lib/python3.11/site-packages (from pandas) (2024.1)\n",
      "Requirement already satisfied: tzdata>=2022.7 in /home/oel/.venv/jupy3/lib/python3.11/site-packages (from pandas) (2024.1)\n",
      "Requirement already satisfied: six>=1.5 in /home/oel/.venv/jupy3/lib/python3.11/site-packages (from python-dateutil>=2.8.2->pandas) (1.16.0)\n"
     ]
    }
   ],
   "source": [
    "!pip3 install pandas"
   ]
  },
  {
   "cell_type": "code",
   "execution_count": null,
   "id": "93747c33",
   "metadata": {},
   "outputs": [],
   "source": [
    "import pandas as pd\n",
    "import numpy as np"
   ]
  }
 ],
 "metadata": {
  "kernelspec": {
   "display_name": "Python 3 (ipykernel)",
   "language": "python",
   "name": "python3"
  },
  "language_info": {
   "codemirror_mode": {
    "name": "ipython",
    "version": 3
   },
   "file_extension": ".py",
   "mimetype": "text/x-python",
   "name": "python",
   "nbconvert_exporter": "python",
   "pygments_lexer": "ipython3",
   "version": "3.11.2"
  }
 },
 "nbformat": 4,
 "nbformat_minor": 5
}
