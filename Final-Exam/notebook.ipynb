{
 "cells": [
  {
   "cell_type": "markdown",
   "id": "6ac27f21-2191-4516-ade4-ae613fa43337",
   "metadata": {},
   "source": [
    "### Notebook Final Exam"
   ]
  },
  {
   "cell_type": "code",
   "execution_count": null,
   "id": "8065c0fa-4568-4da6-b188-c9b60c81776e",
   "metadata": {},
   "outputs": [],
   "source": []
  }
 ],
 "metadata": {
  "kernelspec": {
   "display_name": "Python 3 (ipykernel)",
   "language": "python",
   "name": "python3"
  },
  "language_info": {
   "codemirror_mode": {
    "name": "ipython",
    "version": 3
   },
   "file_extension": ".py",
   "mimetype": "text/x-python",
   "name": "python",
   "nbconvert_exporter": "python",
   "pygments_lexer": "ipython3",
   "version": "3.11.2"
  }
 },
 "nbformat": 4,
 "nbformat_minor": 5
}
