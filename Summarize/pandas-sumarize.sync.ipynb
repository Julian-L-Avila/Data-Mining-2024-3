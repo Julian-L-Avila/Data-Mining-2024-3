{
 "cells": [
  {
   "cell_type": "code",
   "execution_count": 27,
   "id": "89f9081b",
   "metadata": {},
   "outputs": [],
   "source": [
    "import pandas as pd"
   ]
  },
  {
   "cell_type": "code",
   "execution_count": 28,
   "id": "1e19b244",
   "metadata": {},
   "outputs": [
    {
     "name": "stdout",
     "output_type": "stream",
     "text": [
      "<class 'pandas.core.frame.DataFrame'>\n",
      "RangeIndex: 150 entries, 0 to 149\n",
      "Data columns (total 5 columns):\n",
      " #   Column        Non-Null Count  Dtype  \n",
      "---  ------        --------------  -----  \n",
      " 0   sepal.length  150 non-null    float64\n",
      " 1   sepal.width   150 non-null    float64\n",
      " 2   petal.length  150 non-null    float64\n",
      " 3   petal.width   150 non-null    float64\n",
      " 4   variety       150 non-null    object \n",
      "dtypes: float64(4), object(1)\n",
      "memory usage: 6.0+ KB\n"
     ]
    }
   ],
   "source": [
    "df_iris = pd.read_csv(\"./iris.csv\")\n",
    "df_iris.info()"
   ]
  },
  {
   "cell_type": "code",
   "execution_count": 29,
   "id": "49b03d16",
   "metadata": {},
   "outputs": [
    {
     "data": {
      "text/plain": [
       "sepal.length  sepal.width  petal.length  petal.width  variety  \n",
       "5.8           2.7          5.1           1.9          Virginica    2\n",
       "4.4           2.9          1.4           0.2          Setosa       1\n",
       "              3.0          1.3           0.2          Setosa       1\n",
       "              3.2          1.3           0.2          Setosa       1\n",
       "4.3           3.0          1.1           0.1          Setosa       1\n",
       "                                                                  ..\n",
       "7.7           2.6          6.9           2.3          Virginica    1\n",
       "              2.8          6.7           2.0          Virginica    1\n",
       "              3.0          6.1           2.3          Virginica    1\n",
       "              3.8          6.7           2.2          Virginica    1\n",
       "7.9           3.8          6.4           2.0          Virginica    1\n",
       "Name: count, Length: 149, dtype: int64"
      ]
     },
     "execution_count": 29,
     "metadata": {},
     "output_type": "execute_result"
    }
   ],
   "source": [
    "df_iris.value_counts()"
   ]
  },
  {
   "cell_type": "markdown",
   "id": "80e547e5",
   "metadata": {},
   "source": [
    "Realiza un conteo de los datos, mostrando cuantas veces se repiten."
   ]
  },
  {
   "cell_type": "code",
   "execution_count": 30,
   "id": "87706fe9",
   "metadata": {},
   "outputs": [
    {
     "data": {
      "text/plain": [
       "150"
      ]
     },
     "execution_count": 30,
     "metadata": {},
     "output_type": "execute_result"
    }
   ],
   "source": [
    "len(df_iris)"
   ]
  },
  {
   "cell_type": "markdown",
   "id": "76de14f9",
   "metadata": {},
   "source": [
    "Representa la cantidad de datos en el data frame como un int."
   ]
  },
  {
   "cell_type": "code",
   "execution_count": 31,
   "id": "8fecb959",
   "metadata": {},
   "outputs": [
    {
     "data": {
      "text/plain": [
       "sepal.length    35\n",
       "sepal.width     23\n",
       "petal.length    43\n",
       "petal.width     22\n",
       "variety          3\n",
       "dtype: int64"
      ]
     },
     "execution_count": 31,
     "metadata": {},
     "output_type": "execute_result"
    }
   ],
   "source": [
    "df_iris.nunique()"
   ]
  },
  {
   "cell_type": "markdown",
   "id": "af6b13c5",
   "metadata": {},
   "source": [
    "Cuenta el número de datos únicos en cada columna como un int."
   ]
  },
  {
   "cell_type": "code",
   "execution_count": 32,
   "id": "074e7d2a",
   "metadata": {},
   "outputs": [
    {
     "data": {
      "text/html": [
       "<div>\n",
       "<style scoped>\n",
       "    .dataframe tbody tr th:only-of-type {\n",
       "        vertical-align: middle;\n",
       "    }\n",
       "\n",
       "    .dataframe tbody tr th {\n",
       "        vertical-align: top;\n",
       "    }\n",
       "\n",
       "    .dataframe thead th {\n",
       "        text-align: right;\n",
       "    }\n",
       "</style>\n",
       "<table border=\"1\" class=\"dataframe\">\n",
       "  <thead>\n",
       "    <tr style=\"text-align: right;\">\n",
       "      <th></th>\n",
       "      <th>sepal.length</th>\n",
       "      <th>sepal.width</th>\n",
       "      <th>petal.length</th>\n",
       "      <th>petal.width</th>\n",
       "    </tr>\n",
       "  </thead>\n",
       "  <tbody>\n",
       "    <tr>\n",
       "      <th>count</th>\n",
       "      <td>150.000000</td>\n",
       "      <td>150.000000</td>\n",
       "      <td>150.000000</td>\n",
       "      <td>150.000000</td>\n",
       "    </tr>\n",
       "    <tr>\n",
       "      <th>mean</th>\n",
       "      <td>5.843333</td>\n",
       "      <td>3.057333</td>\n",
       "      <td>3.758000</td>\n",
       "      <td>1.199333</td>\n",
       "    </tr>\n",
       "    <tr>\n",
       "      <th>std</th>\n",
       "      <td>0.828066</td>\n",
       "      <td>0.435866</td>\n",
       "      <td>1.765298</td>\n",
       "      <td>0.762238</td>\n",
       "    </tr>\n",
       "    <tr>\n",
       "      <th>min</th>\n",
       "      <td>4.300000</td>\n",
       "      <td>2.000000</td>\n",
       "      <td>1.000000</td>\n",
       "      <td>0.100000</td>\n",
       "    </tr>\n",
       "    <tr>\n",
       "      <th>25%</th>\n",
       "      <td>5.100000</td>\n",
       "      <td>2.800000</td>\n",
       "      <td>1.600000</td>\n",
       "      <td>0.300000</td>\n",
       "    </tr>\n",
       "    <tr>\n",
       "      <th>50%</th>\n",
       "      <td>5.800000</td>\n",
       "      <td>3.000000</td>\n",
       "      <td>4.350000</td>\n",
       "      <td>1.300000</td>\n",
       "    </tr>\n",
       "    <tr>\n",
       "      <th>75%</th>\n",
       "      <td>6.400000</td>\n",
       "      <td>3.300000</td>\n",
       "      <td>5.100000</td>\n",
       "      <td>1.800000</td>\n",
       "    </tr>\n",
       "    <tr>\n",
       "      <th>max</th>\n",
       "      <td>7.900000</td>\n",
       "      <td>4.400000</td>\n",
       "      <td>6.900000</td>\n",
       "      <td>2.500000</td>\n",
       "    </tr>\n",
       "  </tbody>\n",
       "</table>\n",
       "</div>"
      ],
      "text/plain": [
       "       sepal.length  sepal.width  petal.length  petal.width\n",
       "count    150.000000   150.000000    150.000000   150.000000\n",
       "mean       5.843333     3.057333      3.758000     1.199333\n",
       "std        0.828066     0.435866      1.765298     0.762238\n",
       "min        4.300000     2.000000      1.000000     0.100000\n",
       "25%        5.100000     2.800000      1.600000     0.300000\n",
       "50%        5.800000     3.000000      4.350000     1.300000\n",
       "75%        6.400000     3.300000      5.100000     1.800000\n",
       "max        7.900000     4.400000      6.900000     2.500000"
      ]
     },
     "execution_count": 32,
     "metadata": {},
     "output_type": "execute_result"
    }
   ],
   "source": [
    "df_iris.describe()"
   ]
  },
  {
   "cell_type": "markdown",
   "id": "43e48aad",
   "metadata": {},
   "source": [
    "Realiza una descripción general de los datos, mostrando el conteo, el promedio,\n",
    "la desviación estándar, como también máximo y mínimo y los cuantil."
   ]
  },
  {
   "cell_type": "code",
   "execution_count": 33,
   "id": "fed29035",
   "metadata": {},
   "outputs": [
    {
     "data": {
      "text/plain": [
       "sepal.length                                                876.5\n",
       "sepal.width                                                 458.6\n",
       "petal.length                                                563.7\n",
       "petal.width                                                 179.9\n",
       "variety         SetosaSetosaSetosaSetosaSetosaSetosaSetosaSeto...\n",
       "dtype: object"
      ]
     },
     "execution_count": 33,
     "metadata": {},
     "output_type": "execute_result"
    }
   ],
   "source": [
    "df_iris.sum()"
   ]
  },
  {
   "cell_type": "markdown",
   "id": "7593663c",
   "metadata": {},
   "source": [
    "Realiza la suma de todos los datos de cada columna."
   ]
  },
  {
   "cell_type": "code",
   "execution_count": 34,
   "id": "7bc22385",
   "metadata": {},
   "outputs": [
    {
     "data": {
      "text/plain": [
       "sepal.length    150\n",
       "sepal.width     150\n",
       "petal.length    150\n",
       "petal.width     150\n",
       "variety         150\n",
       "dtype: int64"
      ]
     },
     "execution_count": 34,
     "metadata": {},
     "output_type": "execute_result"
    }
   ],
   "source": [
    "df_iris.count()"
   ]
  },
  {
   "cell_type": "markdown",
   "id": "dea3f112",
   "metadata": {},
   "source": [
    "Cuenta la cantidad de datos en cada serie."
   ]
  },
  {
   "cell_type": "code",
   "execution_count": 43,
   "id": "3edac892",
   "metadata": {},
   "outputs": [
    {
     "data": {
      "text/plain": [
       "sepal.length    5.80\n",
       "sepal.width     3.00\n",
       "petal.length    4.35\n",
       "petal.width     1.30\n",
       "dtype: float64"
      ]
     },
     "execution_count": 43,
     "metadata": {},
     "output_type": "execute_result"
    }
   ],
   "source": [
    "df_iris.median(numeric_only=True)"
   ]
  },
  {
   "cell_type": "markdown",
   "id": "e5f0dbf2",
   "metadata": {},
   "source": [
    "Realiza el promedio aritmético de cada serie de datos."
   ]
  },
  {
   "cell_type": "code",
   "execution_count": 53,
   "id": "41df802b",
   "metadata": {},
   "outputs": [
    {
     "data": {
      "text/html": [
       "<div>\n",
       "<style scoped>\n",
       "    .dataframe tbody tr th:only-of-type {\n",
       "        vertical-align: middle;\n",
       "    }\n",
       "\n",
       "    .dataframe tbody tr th {\n",
       "        vertical-align: top;\n",
       "    }\n",
       "\n",
       "    .dataframe thead th {\n",
       "        text-align: right;\n",
       "    }\n",
       "</style>\n",
       "<table border=\"1\" class=\"dataframe\">\n",
       "  <thead>\n",
       "    <tr style=\"text-align: right;\">\n",
       "      <th></th>\n",
       "      <th>sepal.length</th>\n",
       "      <th>sepal.width</th>\n",
       "      <th>petal.length</th>\n",
       "      <th>petal.width</th>\n",
       "    </tr>\n",
       "  </thead>\n",
       "  <tbody>\n",
       "    <tr>\n",
       "      <th>0.25</th>\n",
       "      <td>5.1</td>\n",
       "      <td>2.8</td>\n",
       "      <td>1.6</td>\n",
       "      <td>0.3</td>\n",
       "    </tr>\n",
       "    <tr>\n",
       "      <th>0.75</th>\n",
       "      <td>6.4</td>\n",
       "      <td>3.3</td>\n",
       "      <td>5.1</td>\n",
       "      <td>1.8</td>\n",
       "    </tr>\n",
       "  </tbody>\n",
       "</table>\n",
       "</div>"
      ],
      "text/plain": [
       "      sepal.length  sepal.width  petal.length  petal.width\n",
       "0.25           5.1          2.8           1.6          0.3\n",
       "0.75           6.4          3.3           5.1          1.8"
      ]
     },
     "execution_count": 53,
     "metadata": {},
     "output_type": "execute_result"
    }
   ],
   "source": [
    "df_iris.quantile([0.25, 0.75], numeric_only=True)"
   ]
  },
  {
   "cell_type": "markdown",
   "id": "27b827d9",
   "metadata": {},
   "source": [
    "Regresa el valor medio de cada percentil."
   ]
  },
  {
   "cell_type": "code",
   "execution_count": 48,
   "id": "9720a831",
   "metadata": {},
   "outputs": [
    {
     "data": {
      "text/html": [
       "<div>\n",
       "<style scoped>\n",
       "    .dataframe tbody tr th:only-of-type {\n",
       "        vertical-align: middle;\n",
       "    }\n",
       "\n",
       "    .dataframe tbody tr th {\n",
       "        vertical-align: top;\n",
       "    }\n",
       "\n",
       "    .dataframe thead th {\n",
       "        text-align: right;\n",
       "    }\n",
       "</style>\n",
       "<table border=\"1\" class=\"dataframe\">\n",
       "  <thead>\n",
       "    <tr style=\"text-align: right;\">\n",
       "      <th></th>\n",
       "      <th>sepal.length</th>\n",
       "      <th>sepal.width</th>\n",
       "      <th>petal.length</th>\n",
       "      <th>petal.width</th>\n",
       "      <th>variety</th>\n",
       "    </tr>\n",
       "  </thead>\n",
       "  <tbody>\n",
       "    <tr>\n",
       "      <th>0</th>\n",
       "      <td>10.2</td>\n",
       "      <td>7.0</td>\n",
       "      <td>2.8</td>\n",
       "      <td>0.4</td>\n",
       "      <td>SetosaSetosa</td>\n",
       "    </tr>\n",
       "    <tr>\n",
       "      <th>1</th>\n",
       "      <td>9.8</td>\n",
       "      <td>6.0</td>\n",
       "      <td>2.8</td>\n",
       "      <td>0.4</td>\n",
       "      <td>SetosaSetosa</td>\n",
       "    </tr>\n",
       "    <tr>\n",
       "      <th>2</th>\n",
       "      <td>9.4</td>\n",
       "      <td>6.4</td>\n",
       "      <td>2.6</td>\n",
       "      <td>0.4</td>\n",
       "      <td>SetosaSetosa</td>\n",
       "    </tr>\n",
       "    <tr>\n",
       "      <th>3</th>\n",
       "      <td>9.2</td>\n",
       "      <td>6.2</td>\n",
       "      <td>3.0</td>\n",
       "      <td>0.4</td>\n",
       "      <td>SetosaSetosa</td>\n",
       "    </tr>\n",
       "    <tr>\n",
       "      <th>4</th>\n",
       "      <td>10.0</td>\n",
       "      <td>7.2</td>\n",
       "      <td>2.8</td>\n",
       "      <td>0.4</td>\n",
       "      <td>SetosaSetosa</td>\n",
       "    </tr>\n",
       "    <tr>\n",
       "      <th>...</th>\n",
       "      <td>...</td>\n",
       "      <td>...</td>\n",
       "      <td>...</td>\n",
       "      <td>...</td>\n",
       "      <td>...</td>\n",
       "    </tr>\n",
       "    <tr>\n",
       "      <th>145</th>\n",
       "      <td>13.4</td>\n",
       "      <td>6.0</td>\n",
       "      <td>10.4</td>\n",
       "      <td>4.6</td>\n",
       "      <td>VirginicaVirginica</td>\n",
       "    </tr>\n",
       "    <tr>\n",
       "      <th>146</th>\n",
       "      <td>12.6</td>\n",
       "      <td>5.0</td>\n",
       "      <td>10.0</td>\n",
       "      <td>3.8</td>\n",
       "      <td>VirginicaVirginica</td>\n",
       "    </tr>\n",
       "    <tr>\n",
       "      <th>147</th>\n",
       "      <td>13.0</td>\n",
       "      <td>6.0</td>\n",
       "      <td>10.4</td>\n",
       "      <td>4.0</td>\n",
       "      <td>VirginicaVirginica</td>\n",
       "    </tr>\n",
       "    <tr>\n",
       "      <th>148</th>\n",
       "      <td>12.4</td>\n",
       "      <td>6.8</td>\n",
       "      <td>10.8</td>\n",
       "      <td>4.6</td>\n",
       "      <td>VirginicaVirginica</td>\n",
       "    </tr>\n",
       "    <tr>\n",
       "      <th>149</th>\n",
       "      <td>11.8</td>\n",
       "      <td>6.0</td>\n",
       "      <td>10.2</td>\n",
       "      <td>3.6</td>\n",
       "      <td>VirginicaVirginica</td>\n",
       "    </tr>\n",
       "  </tbody>\n",
       "</table>\n",
       "<p>150 rows × 5 columns</p>\n",
       "</div>"
      ],
      "text/plain": [
       "     sepal.length  sepal.width  petal.length  petal.width             variety\n",
       "0            10.2          7.0           2.8          0.4        SetosaSetosa\n",
       "1             9.8          6.0           2.8          0.4        SetosaSetosa\n",
       "2             9.4          6.4           2.6          0.4        SetosaSetosa\n",
       "3             9.2          6.2           3.0          0.4        SetosaSetosa\n",
       "4            10.0          7.2           2.8          0.4        SetosaSetosa\n",
       "..            ...          ...           ...          ...                 ...\n",
       "145          13.4          6.0          10.4          4.6  VirginicaVirginica\n",
       "146          12.6          5.0          10.0          3.8  VirginicaVirginica\n",
       "147          13.0          6.0          10.4          4.0  VirginicaVirginica\n",
       "148          12.4          6.8          10.8          4.6  VirginicaVirginica\n",
       "149          11.8          6.0          10.2          3.6  VirginicaVirginica\n",
       "\n",
       "[150 rows x 5 columns]"
      ]
     },
     "execution_count": 48,
     "metadata": {},
     "output_type": "execute_result"
    }
   ],
   "source": [
    "def doble(x):\n",
    "    return x + x\n",
    "\n",
    "df_iris.apply(doble)"
   ]
  },
  {
   "cell_type": "code",
   "execution_count": null,
   "id": "98fbd245",
   "metadata": {},
   "outputs": [],
   "source": [
    "# Aplica la función a todos los datos."
   ]
  },
  {
   "cell_type": "code",
   "execution_count": 38,
   "id": "b89b9606",
   "metadata": {},
   "outputs": [
    {
     "data": {
      "text/plain": [
       "sepal.length       4.3\n",
       "sepal.width        2.0\n",
       "petal.length       1.0\n",
       "petal.width        0.1\n",
       "variety         Setosa\n",
       "dtype: object"
      ]
     },
     "execution_count": 38,
     "metadata": {},
     "output_type": "execute_result"
    }
   ],
   "source": [
    "df_iris.min()"
   ]
  },
  {
   "cell_type": "markdown",
   "id": "dfb36921",
   "metadata": {},
   "source": [
    "Regresa el valor mínimo de cada serie."
   ]
  },
  {
   "cell_type": "code",
   "execution_count": 39,
   "id": "a79b2516",
   "metadata": {},
   "outputs": [
    {
     "data": {
      "text/plain": [
       "sepal.length          7.9\n",
       "sepal.width           4.4\n",
       "petal.length          6.9\n",
       "petal.width           2.5\n",
       "variety         Virginica\n",
       "dtype: object"
      ]
     },
     "execution_count": 39,
     "metadata": {},
     "output_type": "execute_result"
    }
   ],
   "source": [
    "df_iris.max()"
   ]
  },
  {
   "cell_type": "markdown",
   "id": "b7744d7b",
   "metadata": {},
   "source": [
    "Regresa el valor máximo de cada serie."
   ]
  },
  {
   "cell_type": "code",
   "execution_count": null,
   "id": "645a6712",
   "metadata": {},
   "outputs": [],
   "source": [
    "df_iris.mean(numeric_only=True)"
   ]
  },
  {
   "cell_type": "markdown",
   "id": "bf5474dc",
   "metadata": {},
   "source": [
    "Regresa el promedio de cada serie."
   ]
  },
  {
   "cell_type": "code",
   "execution_count": 50,
   "id": "5d4a9ce4",
   "metadata": {},
   "outputs": [
    {
     "data": {
      "text/plain": [
       "sepal.length    0.685694\n",
       "sepal.width     0.189979\n",
       "petal.length    3.116278\n",
       "petal.width     0.581006\n",
       "dtype: float64"
      ]
     },
     "execution_count": 50,
     "metadata": {},
     "output_type": "execute_result"
    }
   ],
   "source": [
    "df_iris.var(numeric_only=True)"
   ]
  },
  {
   "cell_type": "markdown",
   "id": "c78ee018",
   "metadata": {},
   "source": [
    "Regresa la varianza de cada serie."
   ]
  },
  {
   "cell_type": "code",
   "execution_count": null,
   "id": "9a009878",
   "metadata": {},
   "outputs": [],
   "source": [
    "df_iris.std(numeric_only=True)"
   ]
  },
  {
   "cell_type": "markdown",
   "id": "546417b4",
   "metadata": {},
   "source": [
    "Regresa la desviación estándar de cada serie."
   ]
  }
 ],
 "metadata": {
  "kernelspec": {
   "display_name": "Python 3 (ipykernel)",
   "language": "python",
   "name": "python3"
  },
  "language_info": {
   "codemirror_mode": {
    "name": "ipython",
    "version": 3
   },
   "file_extension": ".py",
   "mimetype": "text/x-python",
   "name": "python",
   "nbconvert_exporter": "python",
   "pygments_lexer": "ipython3",
   "version": "3.11.2"
  }
 },
 "nbformat": 4,
 "nbformat_minor": 5
}
